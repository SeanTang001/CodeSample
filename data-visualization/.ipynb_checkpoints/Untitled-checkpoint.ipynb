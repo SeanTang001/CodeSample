{
 "cells": [
  {
   "cell_type": "code",
   "execution_count": 8,
   "metadata": {
    "scrolled": true
   },
   "outputs": [],
   "source": [
    "from matplotlib import pyplot as pp\n"
   ]
  },
  {
   "cell_type": "code",
   "execution_count": 9,
   "metadata": {},
   "outputs": [],
   "source": [
    "import json\n"
   ]
  },
  {
   "cell_type": "code",
   "execution_count": 10,
   "metadata": {},
   "outputs": [
    {
     "output_type": "error",
     "ename": "IOError",
     "evalue": "[Errno 2] No such file or directory: '../data-visualization/res.json'",
     "traceback": [
      "\u001b[0;31m\u001b[0m",
      "\u001b[0;31mIOError\u001b[0mTraceback (most recent call last)",
      "\u001b[0;32m<ipython-input-10-05b853da3d1e>\u001b[0m in \u001b[0;36m<module>\u001b[0;34m()\u001b[0m\n\u001b[0;32m----> 1\u001b[0;31m \u001b[0mx\u001b[0m \u001b[0;34m=\u001b[0m \u001b[0mjson\u001b[0m\u001b[0;34m.\u001b[0m\u001b[0mload\u001b[0m\u001b[0;34m(\u001b[0m\u001b[0mopen\u001b[0m\u001b[0;34m(\u001b[0m\u001b[0;34m\"../data-visualization/res.json\"\u001b[0m\u001b[0;34m,\u001b[0m \u001b[0;34m\"r\"\u001b[0m\u001b[0;34m)\u001b[0m\u001b[0;34m)\u001b[0m\u001b[0;34m\u001b[0m\u001b[0m\n\u001b[0m",
      "\u001b[0;31mIOError\u001b[0m: [Errno 2] No such file or directory: '../data-visualization/res.json'"
     ]
    }
   ],
   "source": [
    "x = json.load(open(\"../data-visualization/res.json\", \"r\"))"
   ]
  },
  {
   "cell_type": "code",
   "execution_count": null,
   "metadata": {},
   "outputs": [],
   "source": [
    "import pprint"
   ]
  },
  {
   "cell_type": "code",
   "execution_count": null,
   "metadata": {},
   "outputs": [],
   "source": [
    "# pprint.pprint(x)"
   ]
  },
  {
   "cell_type": "code",
   "execution_count": null,
   "metadata": {},
   "outputs": [],
   "source": [
    "i = json.load(open(\"../data-visualization/items.json\"))\n",
    "print(i)\n",
    "res = {}\n",
    "\n",
    "\n",
    "\n",
    "for item in i:\n",
    "    res[item] = {\"walmart\":{}, \"target\":{}, \"safeway\":{}}\n",
    "    for store in x[item]:\n",
    "        typez = store[\"type\"]\n",
    "        for g in store['items']:        \n",
    "            name = g[\"name\"]\n",
    "            price = g[\"price\"]\n",
    "            if(typez == \"walmart\"):\n",
    "                price = g[\"price\"]/100.0\n",
    "            res[item][typez][name]=(price)\n",
    "pprint.pprint(res)"
   ]
  },
  {
   "cell_type": "code",
   "execution_count": null,
   "metadata": {},
   "outputs": [],
   "source": [
    "# pp.plot(data=res)\n",
    "import numpy as np\n",
    "#d=np.arange(len(res[\"Beans\"][\"safeway\"]))\n",
    "#res[\"Beans\"][\"safeway\"].sort()\n",
    "pp.rcParams[\"figure.figsize\"] = (10,2)\n",
    "pp.tight_layout()\n",
    "for item in i:\n",
    "    fig, a = pp.subplots(1,1)\n",
    "    a.plot(res[item][\"safeway\"].keys(), res[item][\"safeway\"].values(), 'x')\n",
    "    a.plot(res[item][\"walmart\"].keys(), res[item][\"walmart\"].values(), 'o')\n",
    "    a.plot(res[item][\"target\"].keys(), res[item][\"target\"].values(), 's')\n",
    "    a.plot(range(len(list(res[item][\"target\"].values())+list(res[item][\"walmart\"].values())+list(res[item][\"safeway\"].values()))), [np.mean(list(res[item][\"target\"].values())+list(res[item][\"walmart\"].values())+list(res[item][\"safeway\"].values())) for ax in range(len(list(res[item][\"target\"].values())+list(res[item][\"walmart\"].values())+list(res[item][\"safeway\"].values())))], \"g\")\n",
    "    pp.xticks(rotation=90, fontsize=5)"
   ]
  },
  {
   "cell_type": "code",
   "execution_count": null,
   "metadata": {},
   "outputs": [],
   "source": [
    "resx = {}\n",
    "\n",
    "for item in i:\n",
    "    print(item)\n",
    "    resx[item] = {\"walmart\":{}, \"target\":{}, \"safeway\":{}}\n",
    "    for a in x[item]:\n",
    "        resx[item][a[\"type\"]][a[\"address\"]] = a[\"summaryTotal\"][\"quantityRank\"]\n",
    "\n",
    "pprint.pprint(resx)\n",
    "\n"
   ]
  },
  {
   "cell_type": "code",
   "execution_count": null,
   "metadata": {},
   "outputs": [],
   "source": [
    "pp.plot(np.arange(len(resx[\"Beans\"][\"safeway\"])), (resx[\"Beans\"][\"safeway\"].values()), 'x')"
   ]
  },
  {
   "cell_type": "code",
   "execution_count": null,
   "metadata": {},
   "outputs": [],
   "source": [
    "pp.plot(np.arange(len(resx[\"Beans\"][\"walmart\"])), (resx[\"Beans\"][\"walmart\"].values()), 'x')"
   ]
  },
  {
   "cell_type": "code",
   "execution_count": null,
   "metadata": {},
   "outputs": [],
   "source": [
    "pp.bar(np.arange(len(resx[\"Beans\"][\"target\"])), (resx[\"Beans\"][\"target\"].values()))"
   ]
  },
  {
   "cell_type": "code",
   "execution_count": null,
   "metadata": {},
   "outputs": [],
   "source": [
    "for i in resx.keys():\n",
    "    fig, a = pp.subplots(1,3)\n",
    "    print(a)\n",
    "    a[0].bar(range(len(resx[i][\"target\"])), resx[i][\"target\"].values())\n",
    "    a0 = a[0].twinx()\n",
    "    a0.plot(range(len(resx[i][\"target\"])), [np.mean(list(resx[i][\"target\"].values())) for ax in range(len(resx[i][\"target\"]))], \"r\")\n",
    "    a[0].set_title(i + \" at target\")\n",
    "    a[1].bar(range(len(resx[i][\"walmart\"])), resx[i][\"walmart\"].values())\n",
    "    a1 = a[1].twinx()\n",
    "    a1.plot(range(len(resx[i][\"walmart\"])), [np.mean(list(resx[i][\"walmart\"].values())) for ax in range(len(resx[i][\"walmart\"]))], \"r\")    \n",
    "    a[1].set_title(i + \" at walmart\")\n",
    "    a[2].bar(range(len(resx[i][\"safeway\"])), resx[i][\"safeway\"].values())\n",
    "    a2 = a[2].twinx()\n",
    "    a2.plot(range(len(resx[i][\"safeway\"])), [np.mean(list(resx[i][\"safeway\"].values())) for ax in range(len(resx[i][\"safeway\"]))], \"r\")\n",
    "    a[2].set_title(i + \" at safeway\")\n"
   ]
  },
  {
   "cell_type": "code",
   "execution_count": null,
   "metadata": {},
   "outputs": [],
   "source": [
    "pp.rcParams[\"figure.figsize\"] = (20,2)\n",
    "print(len(resx.keys()))\n",
    "fig, a = pp.subplots(len(resx.keys()),3)\n",
    "b = 0\n",
    "pp.tight_layout()\n",
    "for i in resx.keys():\n",
    "    a[b][0].bar(range(len(resx[i][\"target\"])), resx[i][\"target\"].values())\n",
    "    a[b][0].set_title(i + \" at target\")\n",
    "    a[b][1].bar(range(len(resx[i][\"walmart\"])), resx[i][\"walmart\"].values())\n",
    "    a[b][1].set_title(i + \" at walmart\")\n",
    "    a[b][2].bar(range(len(resx[i][\"safeway\"])), resx[i][\"safeway\"].values())\n",
    "    a[b][2].set_title(i + \" at safeway\")\n",
    "    b = b + 1\n",
    "    "
   ]
  },
  {
   "cell_type": "code",
   "execution_count": null,
   "metadata": {},
   "outputs": [],
   "source": [
    "fig.savefig(\"./results.png\")\n",
    "\n",
    "\n",
    "#what data do people want to see?\n",
    "#perhaps ... change in supply for different stores over time\n",
    "#IDEAS:\n",
    "\n",
    "#Average score of different things across different stores - bar /\n",
    "#Average price of different things across different stores - bar\n",
    "#\n",
    "#Location Analysis?(?)\n",
    "#supply over time trend - plot\n",
    "#price over time trend - plot\n",
    "#\n",
    "#supply over time based on county- bar\n",
    "#supply over time based on shop type - bar\n",
    "#supply over time based on over general - bar\n",
    "#\n",
    "#to simplify process, everything will happen at day-day interval"
   ]
  },
  {
   "cell_type": "code",
   "execution_count": null,
   "metadata": {},
   "outputs": [],
   "source": []
  },
  {
   "cell_type": "code",
   "execution_count": null,
   "metadata": {},
   "outputs": [],
   "source": []
  }
 ],
 "metadata": {
  "kernelspec": {
   "display_name": "Python 3",
   "language": "python",
   "name": "python3"
  },
  "language_info": {
   "codemirror_mode": {
    "name": "ipython",
    "version": 3
   },
   "file_extension": ".py",
   "mimetype": "text/x-python",
   "name": "python",
   "nbconvert_exporter": "python",
   "pygments_lexer": "ipython3",
   "version": "3.8.3-final"
  }
 },
 "nbformat": 4,
 "nbformat_minor": 4
}